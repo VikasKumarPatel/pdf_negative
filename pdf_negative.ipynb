{
 "cells": [
  {
   "cell_type": "code",
   "execution_count": 1,
   "id": "4392a422",
   "metadata": {},
   "outputs": [],
   "source": [
    "import glob\n",
    "from PIL import Image\n",
    "import PIL.ImageOps\n",
    "import os\n",
    "from pdf2image import convert_from_path"
   ]
  },
  {
   "cell_type": "code",
   "execution_count": 2,
   "id": "44f35be2",
   "metadata": {},
   "outputs": [],
   "source": [
    "for pdf_file in glob.glob(\"*.pdf\"):\n",
    "    images = convert_from_path(pdf_file)\n",
    "    imageList=[]\n",
    "    for i in range(len(images)):\n",
    "        image_file_name=pdf_file+'page'+ str(i) +'.jpg'\n",
    "        images[i].save(image_file_name, 'JPEG')\n",
    "        image = Image.open(image_file_name)\n",
    "        if image.mode == 'RGBA':\n",
    "            r,g,b,a = image.split()\n",
    "            rgb_image = Image.merge('RGB', (r,g,b))\n",
    "            inverted_image = PIL.ImageOps.invert(rgb_image)\n",
    "            r2,g2,b2 = inverted_image.split()\n",
    "            final_transparent_image = Image.merge('RGBA', (r2,g2,b2,a))\n",
    "            final_transparent_image.convert('RGB')\n",
    "            final_transparent_image.save(image_file_name)\n",
    "            imageList.append(final_transparent_image)\n",
    "        else:\n",
    "            inverted_image = PIL.ImageOps.invert(image)\n",
    "            inverted_image.convert('RGB')\n",
    "            imageList.append(inverted_image)\n",
    "            inverted_image.save(image_file_name)\n",
    "        os.remove(image_file_name)\n",
    "    imageList[0].save(r'C:\\Users\\vikas\\Documents\\jupyter\\images\\new\\new_'+pdf_file, save_all=True, append_images=imageList[1:])"
   ]
  },
  {
   "cell_type": "code",
   "execution_count": null,
   "id": "23e935b0",
   "metadata": {},
   "outputs": [],
   "source": []
  }
 ],
 "metadata": {
  "kernelspec": {
   "display_name": "Python 3 (ipykernel)",
   "language": "python",
   "name": "python3"
  },
  "language_info": {
   "codemirror_mode": {
    "name": "ipython",
    "version": 3
   },
   "file_extension": ".py",
   "mimetype": "text/x-python",
   "name": "python",
   "nbconvert_exporter": "python",
   "pygments_lexer": "ipython3",
   "version": "3.9.12"
  }
 },
 "nbformat": 4,
 "nbformat_minor": 5
}
